{
 "cells": [
  {
   "cell_type": "code",
   "execution_count": 13,
   "id": "5ee36951",
   "metadata": {},
   "outputs": [
    {
     "name": "stdout",
     "output_type": "stream",
     "text": [
      "enter the email :Yasha\n",
      "wrong email 1\n"
     ]
    }
   ],
   "source": [
    "email=input(\"enter the email :\")\n",
    "k,j,d=0,0,0\n",
    "if len(email)>=6:\n",
    "    if email[0].isalpha():\n",
    "        if(\"@\"in email)and (email.count(\"@\")==1):\n",
    "            if(email[-4]==\".\")^(email[-3]==\".\"):\n",
    "                for i in email:\n",
    "                    if i==i.isspace():\n",
    "                        k=1\n",
    "                    elif i.isalpha():\n",
    "                        if i==i.upper():\n",
    "                            j=1\n",
    "                    elif i.isdigit():\n",
    "                        continue\n",
    "                    elif i==\"_\"or i==\".\"or i==\"@\":\n",
    "                        continue\n",
    "                    else:\n",
    "                        d=1\n",
    "                if k==1 or j==1or d==1:\n",
    "                    print(\"wrong email 5\")\n",
    "                else:\n",
    "                    print(\"right email\")\n",
    "            else:\n",
    "                print(\"wrong email 4\")\n",
    "            \n",
    "        else:\n",
    "            print(\"wrong email 3\")\n",
    "    \n",
    "    else:\n",
    "        print(\"wrong email 2\")\n",
    "        \n",
    "else:\n",
    "    print(\"wrong email 1\")\n",
    "    "
   ]
  },
  {
   "cell_type": "code",
   "execution_count": null,
   "id": "9910f296",
   "metadata": {},
   "outputs": [],
   "source": []
  },
  {
   "cell_type": "code",
   "execution_count": null,
   "id": "1febf6e7",
   "metadata": {},
   "outputs": [],
   "source": []
  }
 ],
 "metadata": {
  "kernelspec": {
   "display_name": "Python 3 (ipykernel)",
   "language": "python",
   "name": "python3"
  },
  "language_info": {
   "codemirror_mode": {
    "name": "ipython",
    "version": 3
   },
   "file_extension": ".py",
   "mimetype": "text/x-python",
   "name": "python",
   "nbconvert_exporter": "python",
   "pygments_lexer": "ipython3",
   "version": "3.10.9"
  }
 },
 "nbformat": 4,
 "nbformat_minor": 5
}
